{
 "cells": [
  {
   "cell_type": "code",
   "execution_count": 1,
   "metadata": {},
   "outputs": [],
   "source": [
    "from config import Hyper\n",
    "from helper import Helper\n",
    "from database import Data"
   ]
  },
  {
   "cell_type": "code",
   "execution_count": 2,
   "metadata": {},
   "outputs": [
    {
     "name": "stdout",
     "output_type": "stream",
     "text": [
      "2021/10/28 14:18:05   ** Started\n",
      "2021/10/28 14:18:05   Database opened successfully\n"
     ]
    }
   ],
   "source": [
    "Helper.printline(\"** Started\")\n",
    "Helper.check_directory(Hyper.sql_dir)\n",
    "Helper.check_directory(Hyper.output_dir)\n",
    "d = Data()\n",
    "if Hyper.create_schema:\n",
    "    d.create_database()\n",
    "\n",
    "\n",
    "Helper.printline(\"** Ended\")"
   ]
  }
 ],
 "metadata": {
  "interpreter": {
   "hash": "2cc0a28750a97f3af66d5f5dbea248319d1ba299a184f0311f0cc2afdf3bf264"
  },
  "kernelspec": {
   "display_name": "Python 3.6.9 64-bit (conda)",
   "name": "python3"
  },
  "language_info": {
   "codemirror_mode": {
    "name": "ipython",
    "version": 3
   },
   "file_extension": ".py",
   "mimetype": "text/x-python",
   "name": "python",
   "nbconvert_exporter": "python",
   "pygments_lexer": "ipython3",
   "version": "3.6.9"
  },
  "orig_nbformat": 4
 },
 "nbformat": 4,
 "nbformat_minor": 2
}
