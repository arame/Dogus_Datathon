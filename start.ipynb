{
 "cells": [
  {
   "cell_type": "code",
   "execution_count": 1,
   "metadata": {},
   "outputs": [],
   "source": [
    "from config import Hyper\n",
    "from helper import Helper\n",
    "from database import Data"
   ]
  },
  {
   "cell_type": "code",
   "execution_count": 2,
   "metadata": {},
   "outputs": [
    {
     "name": "stdout",
     "output_type": "stream",
     "text": [
      "2021/11/02 15:24:01   ** Started\n",
      "2021/11/02 15:24:01   Database opened successfully\n",
      "2021/11/02 15:24:48   Deleted all tables\n",
      "2021/11/02 15:24:48   Deleted all views\n",
      "2021/11/02 15:24:48   customers table successfully created\n",
      "2021/11/02 15:25:42   customers table loaded\n",
      "2021/11/02 15:25:45   Contents of customers table, first 10 out of 849919 rows.\n",
      "2021/11/02 15:25:45   1: (1000001, 1, 'Erkek', 100, None, 0, 1960, 'KÄ±rklareli', 'MÃ¼hendis')\n",
      "2021/11/02 15:25:45   2: (1000002, 2, 'KadÄ±n', 101, 'Evli', 101, 1967, 'Ä°stanbul', None)\n",
      "2021/11/02 15:25:45   3: (1000003, 3, 'Erkek', 100, 'Evli', 101, 1964, 'Ä°stanbul', 'Turizmci')\n",
      "2021/11/02 15:25:45   4: (1000004, 4, 'KadÄ±n', 101, 'Bekar', 102, 1966, 'Ankara', 'BankacÄ± / SigortacÄ± / FinansÃ§Ä± / Ekonomist / Borsa')\n",
      "2021/11/02 15:25:45   5: (1000005, 5, 'Erkek', 100, 'Bekar', 102, 1979, 'Ä°stanbul', None)\n",
      "2021/11/02 15:25:45   6: (1000006, 6, 'Erkek', 100, None, 0, 1950, 'Antalya', 'Orta / Alt Seviye Kamu GÃ¶revli / Memur / BÃ¼rokrat')\n",
      "2021/11/02 15:25:45   7: (1000007, 7, 'KadÄ±n', 101, 'Evli', 101, 1967, 'Ä°stanbul', 'Ev HanÄ±mÄ±')\n",
      "2021/11/02 15:25:45   8: (1000008, 8, 'Erkek', 100, None, 0, 1965, 'Kayseri', None)\n",
      "2021/11/02 15:25:45   9: (1000009, 9, 'Erkek', 100, 'Evli', 101, 1956, 'Ä°stanbul', 'Doktor / DiÅ\\x9f Hekimi / Veteriner')\n",
      "2021/11/02 15:25:45   10: (1000010, 10, 'KadÄ±n', 101, None, 0, 1951, 'Ä°stanbul', 'MÃ¼hendis')\n",
      "2021/11/02 15:25:45   sales_file table successfully created\n",
      "2021/11/02 15:26:17   sales_file table loaded\n",
      "2021/11/02 15:26:19   Contents of sales_file table, first 10 out of 397526 rows.\n",
      "2021/11/02 15:26:19   1: (1712792, 7274467, datetime.datetime(2017, 11, 17, 12, 15, 39), 101, 'Y', 9231)\n",
      "2021/11/02 15:26:19   2: (1149729, 4839430, datetime.datetime(2015, 11, 11, 17, 3, 28), 102, 'K', 9184)\n",
      "2021/11/02 15:26:19   3: (1697993, 4847398, datetime.datetime(2015, 11, 14, 11, 15, 51), 102, 'Y', 9231)\n",
      "2021/11/02 15:26:19   4: (1680258, 3817349, datetime.datetime(2014, 12, 23, 17, 26, 9), 105, 'Y', 9362)\n",
      "2021/11/02 15:26:19   5: (1244973, 8079074, datetime.datetime(2018, 8, 28, 12, 55, 4), 101, 'K', 9901)\n",
      "2021/11/02 15:26:19   6: (1800842, 8084370, datetime.datetime(2018, 8, 30, 12, 43, 26), 101, 'Z', 9245)\n",
      "2021/11/02 15:26:19   7: (1757826, 8094053, datetime.datetime(2018, 9, 5, 10, 53, 15), 105, 'Y', 9231)\n",
      "2021/11/02 15:26:19   8: (1759178, 8096926, datetime.datetime(2018, 9, 6, 17, 14, 43), 105, 'T', 9419)\n",
      "2021/11/02 15:26:19   9: (1383121, 3136392, datetime.datetime(2014, 4, 25, 14, 40, 54), 105, 'T', 9352)\n",
      "2021/11/02 15:26:19   10: (1434739, 4776891, datetime.datetime(2015, 10, 21, 8, 36, 1), 102, 'K', 9176)\n",
      "2021/11/02 15:26:20   customer_history table successfully created\n",
      "2021/11/02 15:27:13   customer_history table loaded\n",
      "2021/11/02 15:27:14   customer_sales table successfully created\n",
      "2021/11/02 15:27:42   customer_sales table loaded\n",
      "2021/11/02 15:27:42   Contents of customer_sales table, first 10 out of 169525 rows.\n",
      "2021/11/02 15:27:42   1: (1063740, 5015193, datetime.datetime(2005, 1, 1, 19, 8, 33))\n",
      "2021/11/02 15:27:42   2: (1155678, 5110231, datetime.datetime(2005, 9, 29, 17, 16, 15))\n",
      "2021/11/02 15:27:42   3: (1737831, 5290356, datetime.datetime(2016, 4, 29, 13, 12, 10))\n",
      "2021/11/02 15:27:42   4: (1841362, 5344576, datetime.datetime(2021, 3, 16, 13, 39, 1))\n",
      "2021/11/02 15:27:42   5: (1066916, 5094010, datetime.datetime(2005, 4, 20, 9, 51, 19))\n",
      "2021/11/02 15:27:42   6: (1479220, 5156799, datetime.datetime(2008, 9, 25, 17, 54, 46))\n",
      "2021/11/02 15:27:42   7: (1672923, 5295808, datetime.datetime(2016, 7, 18, 15, 48, 58))\n",
      "2021/11/02 15:27:42   8: (1748704, 5295461, datetime.datetime(2016, 9, 20, 11, 26, 56))\n",
      "2021/11/02 15:27:43   9: (1275171, 5163390, datetime.datetime(2009, 6, 10, 18, 12, 2))\n",
      "2021/11/02 15:27:43   10: (1053844, 5055631, datetime.datetime(2005, 1, 1, 14, 46, 45))\n",
      "2021/11/02 15:27:43   vehicle table successfully created\n",
      "2021/11/02 15:28:48   vehicle table loaded\n",
      "2021/11/02 15:28:49   vehicle_maintenance_orig table successfully created\n",
      "2021/11/02 15:30:14   vehicle_maintenance_orig table loaded\n",
      "2021/11/02 15:30:18   Contents of vehicle_maintenance_orig table, first 10 out of 1041000 rows.\n",
      "2021/11/02 15:30:18   1: (datetime.datetime(2010, 12, 29, 10, 50, 56), 1, 5000001, 192)\n",
      "2021/11/02 15:30:18   2: (datetime.datetime(2013, 8, 21, 10, 34, 21), 1, 5000001, 267)\n",
      "2021/11/02 15:30:18   3: (datetime.datetime(2015, 11, 30, 10, 55), 1, 5000001, 1747)\n",
      "2021/11/02 15:30:18   4: (datetime.datetime(2015, 12, 9, 13, 38, 49), 0, 5000001, 465)\n",
      "2021/11/02 15:30:18   5: (datetime.datetime(2017, 11, 23, 9, 53, 22), 1, 5000001, 549)\n",
      "2021/11/02 15:30:18   6: (datetime.datetime(2010, 9, 24, 14, 40, 28), 0, 5000003, 943)\n",
      "2021/11/02 15:30:18   7: (datetime.datetime(2010, 5, 12, 10, 7, 10), 0, 5000007, 1689)\n",
      "2021/11/02 15:30:18   8: (datetime.datetime(2010, 6, 24, 11, 48, 26), 0, 5000008, None)\n",
      "2021/11/02 15:30:18   9: (datetime.datetime(2011, 10, 21, 8, 56, 16), 0, 5000013, 145)\n",
      "2021/11/02 15:30:18   10: (datetime.datetime(2012, 3, 2, 10, 38, 17), 0, 5000013, 291)\n",
      "2021/11/02 15:30:21   vehicle_maintenance table successfully created\n",
      "2021/11/02 15:31:13   Script for loading vehicle_maintenance completed\n",
      "2021/11/02 15:31:13   ** Ended\n"
     ]
    }
   ],
   "source": [
    "Helper.printline(\"** Started\")\n",
    "Helper.check_directory(Hyper.sql_dir)\n",
    "Helper.check_directory(Hyper.output_dir)\n",
    "d = Data()\n",
    "if Hyper.create_schema:\n",
    "    d.create_database()\n",
    "\n",
    "\n",
    "Helper.printline(\"** Ended\")"
   ]
  }
 ],
 "metadata": {
  "interpreter": {
   "hash": "2cc0a28750a97f3af66d5f5dbea248319d1ba299a184f0311f0cc2afdf3bf264"
  },
  "kernelspec": {
   "display_name": "Python 3.6.9 64-bit (conda)",
   "name": "python3"
  },
  "language_info": {
   "codemirror_mode": {
    "name": "ipython",
    "version": 3
   },
   "file_extension": ".py",
   "mimetype": "text/x-python",
   "name": "python",
   "nbconvert_exporter": "python",
   "pygments_lexer": "ipython3",
   "version": "3.6.9"
  },
  "orig_nbformat": 4
 },
 "nbformat": 4,
 "nbformat_minor": 2
}
